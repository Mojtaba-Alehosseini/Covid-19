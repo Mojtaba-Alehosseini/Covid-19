{
  "cells": [
    {
      "cell_type": "code",
      "execution_count": null,
      "metadata": {
        "id": "5AzGco5nSgYD"
      },
      "outputs": [],
      "source": [
        "!pip install --upgrade scikit-learn==0.20.3"
      ]
    },
    {
      "cell_type": "code",
      "source": [
        "import numpy as np\n",
        "import pandas as pd\n",
        "import matplotlib.pyplot as plt\n",
        "import seaborn as sns\n",
        "from sklearn import preprocessing\n",
        "from sklearn.neighbors import KNeighborsRegressor\n",
        "from sklearn import neighbors\n",
        "from sklearn.metrics import mean_squared_error\n",
        "import math\n",
        "from sklearn.metrics import accuracy_score\n",
        "from sklearn import metrics\n",
        "import matplotlib.pyplot as plt\n",
        "import seaborn as sb\n",
        "from sklearn.tree import DecisionTreeClassifier\n",
        "from sklearn.model_selection import train_test_split\n",
        "from sklearn.metrics import confusion_matrix\n",
        "from sklearn.tree import export_graphviz\n",
        "from sklearn.externals.six import StringIO \n",
        "from IPython.display import Image \n",
        "from pydot import graph_from_dot_data\n"
      ],
      "metadata": {
        "id": "hhGdwOhbKO8E"
      },
      "execution_count": null,
      "outputs": []
    },
    {
      "cell_type": "code",
      "execution_count": null,
      "metadata": {
        "id": "lJIblI7QTCft"
      },
      "outputs": [],
      "source": [
        "from google.colab import drive\n",
        "drive.mount('/content/drive')"
      ]
    },
    {
      "cell_type": "code",
      "execution_count": null,
      "metadata": {
        "id": "SiFMOeNHT03I"
      },
      "outputs": [],
      "source": [
        "df=pd.read_csv(\"/content/drive/MyDrive/corona_tested_individuals_ver_0083.english.csv\")\n",
        "df"
      ]
    },
    {
      "cell_type": "code",
      "execution_count": null,
      "metadata": {
        "id": "Jy3NEimlZJXe"
      },
      "outputs": [],
      "source": [
        "df.dropna(inplace = True)\n",
        "df['test_date']=pd.DatetimeIndex(df['test_date'])\n",
        "df = df.set_index('test_date')"
      ]
    },
    {
      "cell_type": "code",
      "execution_count": null,
      "metadata": {
        "id": "TXMIRTNUikXr"
      },
      "outputs": [],
      "source": [
        "sns.countplot(df['corona_result'])\n"
      ]
    },
    {
      "cell_type": "code",
      "execution_count": null,
      "metadata": {
        "id": "qhoO7i9l_-p-"
      },
      "outputs": [],
      "source": []
    },
    {
      "cell_type": "code",
      "execution_count": null,
      "metadata": {
        "id": "OCZhHVfeaIzY"
      },
      "outputs": [],
      "source": [
        "co = df.copy(True)\n",
        "co['gender'] = co['gender'].map({'female': 0, 'male': 1})\n",
        "# co['test_indication'] = co['test_indication'].map({'Other': 0, 'Contact with confirmed': 1 ,'Abroad':2 })\n",
        "co = co.loc[co.test_indication == 'Contact with confirmed']\n",
        "co = co[co.age_60_and_above != 'NaN']\n",
        "co['age_60_and_above'] = co['age_60_and_above'].map({'Yes': 1,'No':0 })\n",
        "co = co[co.corona_result != 'other']\n",
        "co['corona_result'] = co['corona_result'].map({'positive': 1, 'negative' : 0  })\n",
        "\n",
        "\n",
        "\n"
      ]
    },
    {
      "cell_type": "code",
      "execution_count": null,
      "metadata": {
        "id": "0jAfWfI8fGYm"
      },
      "outputs": [],
      "source": [
        "co.corona_result.unique()"
      ]
    },
    {
      "cell_type": "code",
      "execution_count": null,
      "metadata": {
        "id": "vpauw6OOk2wG"
      },
      "outputs": [],
      "source": [
        "co"
      ]
    },
    {
      "cell_type": "code",
      "execution_count": null,
      "metadata": {
        "id": "Bt0SNE5oATgI"
      },
      "outputs": [],
      "source": [
        "del co['test_indication']\n"
      ]
    },
    {
      "cell_type": "code",
      "execution_count": null,
      "metadata": {
        "id": "3V8em-LXjjE1"
      },
      "outputs": [],
      "source": [
        "co.describe()"
      ]
    },
    {
      "cell_type": "code",
      "execution_count": null,
      "metadata": {
        "id": "vSZJITKZBcaa"
      },
      "outputs": [],
      "source": [
        "co"
      ]
    },
    {
      "cell_type": "code",
      "execution_count": null,
      "metadata": {
        "id": "dFImhFHtCztO"
      },
      "outputs": [],
      "source": [
        "from sklearn.metrics.pairwise import pairwise_distances\n",
        "\n",
        "\n"
      ]
    },
    {
      "cell_type": "code",
      "execution_count": null,
      "metadata": {
        "id": "o6RU5Nc0YKQ6"
      },
      "outputs": [],
      "source": [
        "jac_co = co.to_numpy()\n"
      ]
    },
    {
      "cell_type": "code",
      "execution_count": null,
      "metadata": {
        "id": "pQFZVOfSYMh6"
      },
      "outputs": [],
      "source": [
        "jc= pairwise_distances(jac_co, metric = \"jaccard\")\n",
        "print(jc)\n",
        "jh =pairwise_distances(jac_co, metric = \"hamming\")"
      ]
    },
    {
      "cell_type": "code",
      "execution_count": null,
      "metadata": {
        "id": "Ym4vQ1bxSLi4"
      },
      "outputs": [],
      "source": [
        "djc = pd.DataFrame(jc, index=co.T.columns, columns=co.T.columns)\n",
        "djh = pd.DataFrame(jh, index=co.T.columns, columns=co.T.columns)"
      ]
    },
    {
      "cell_type": "code",
      "execution_count": null,
      "metadata": {
        "id": "d_J_S2bqSkKl"
      },
      "outputs": [],
      "source": [
        "djc"
      ]
    },
    {
      "cell_type": "code",
      "execution_count": null,
      "metadata": {
        "id": "5VGu0oFWSmD7"
      },
      "outputs": [],
      "source": [
        "djh"
      ]
    },
    {
      "cell_type": "code",
      "execution_count": null,
      "metadata": {
        "id": "o-hXuIvcUoSk"
      },
      "outputs": [],
      "source": [
        "ax = sns.heatmap(co, vmin=0, vmax=1)\n"
      ]
    },
    {
      "cell_type": "code",
      "execution_count": null,
      "metadata": {
        "id": "AP6-XVEpjpgj"
      },
      "outputs": [],
      "source": [
        "y  = co.corona_result.values\n",
        "X = co.loc[:, co.columns != 'corona_result'].values\n"
      ]
    },
    {
      "cell_type": "code",
      "execution_count": null,
      "metadata": {
        "id": "_WpcHjk-m2sS"
      },
      "outputs": [],
      "source": [
        "# Splitting the dataset into the Training set and Test set\n",
        "from sklearn.model_selection import train_test_split\n",
        "X_train, X_test, y_train, y_test = train_test_split(X, y, test_size = 0.25, random_state = 0)"
      ]
    },
    {
      "cell_type": "code",
      "execution_count": null,
      "metadata": {
        "id": "EfcZ2F5MxKhY"
      },
      "outputs": [],
      "source": [
        "from sklearn.preprocessing import StandardScaler\n",
        "sc = StandardScaler()\n",
        "X_train = sc.fit_transform(X_train)\n",
        "X_test = sc.transform(X_test)"
      ]
    },
    {
      "cell_type": "code",
      "execution_count": null,
      "metadata": {
        "id": "06gR8l1Z7in8"
      },
      "outputs": [],
      "source": [
        "# Fitting classifier to the Training set\n",
        "from sklearn.neighbors import KNeighborsClassifier\n",
        "classifier = KNeighborsClassifier(n_neighbors = 2)\n",
        "classifier.fit(X_train, y_train)"
      ]
    },
    {
      "cell_type": "code",
      "execution_count": null,
      "metadata": {
        "id": "O1RS5cGmF7zW"
      },
      "outputs": [],
      "source": [
        "# Predicting the Test set results\n",
        "y_pred = classifier.predict(X_test)"
      ]
    },
    {
      "cell_type": "code",
      "execution_count": null,
      "metadata": {
        "id": "xbtr_7I3GAgo"
      },
      "outputs": [],
      "source": [
        "ac1 = accuracy_score(y_pred,y_test)  \n",
        "ac1"
      ]
    },
    {
      "cell_type": "code",
      "execution_count": null,
      "metadata": {
        "id": "PBUPm8RxHq8z"
      },
      "outputs": [],
      "source": [
        "error = []\n",
        "\n",
        "# Calculating error for K values between 1 and 20\n",
        "for i in range(1, 20):\n",
        "    knn = KNeighborsClassifier(n_neighbors=i)\n",
        "    knn.fit(X_train, y_train)\n",
        "    pred_i = knn.predict(X_test)\n",
        "    error.append(np.mean(pred_i != y_test))"
      ]
    },
    {
      "cell_type": "code",
      "execution_count": null,
      "metadata": {
        "id": "xvPTn6OKPc6Q"
      },
      "outputs": [],
      "source": [
        "error"
      ]
    },
    {
      "cell_type": "code",
      "execution_count": null,
      "metadata": {
        "id": "BnsNpjSYHuHA"
      },
      "outputs": [],
      "source": [
        "plt.figure(figsize=(3, 6))\n",
        "plt.plot(range(1, 20), error, color='red', linestyle='dashed', marker='o',\n",
        "         markerfacecolor='blue', markersize=10)\n",
        "plt.title('Error Rate K Value')\n",
        "plt.xlabel('K Value')\n",
        "plt.ylabel('Mean Error')"
      ]
    },
    {
      "cell_type": "code",
      "execution_count": null,
      "metadata": {
        "id": "YCAMc7L3N_bp"
      },
      "outputs": [],
      "source": [
        "dt = DecisionTreeClassifier()\n",
        "dt.fit(X_train, y_train)\n"
      ]
    },
    {
      "cell_type": "code",
      "execution_count": null,
      "metadata": {
        "id": "M6i7HK_vODhA"
      },
      "outputs": [],
      "source": [
        "dot_data = StringIO()\n",
        "export_graphviz(dt, out_file=dot_data, feature_names=co.loc[:, co.columns != 'corona_result'].columns)\n",
        "(graph, ) = graph_from_dot_data(dot_data.getvalue())\n",
        "Image(graph.create_png())"
      ]
    },
    {
      "cell_type": "code",
      "execution_count": null,
      "metadata": {
        "id": "8dt5qGj5OJSW"
      },
      "outputs": [],
      "source": [
        "y_pred = dt.predict(X_test)\n"
      ]
    },
    {
      "cell_type": "code",
      "execution_count": null,
      "metadata": {
        "id": "jtycSt2uPxZ2"
      },
      "outputs": [],
      "source": [
        "ac2 = accuracy_score(y_pred,y_test)  \n",
        "ac2"
      ]
    }
  ],
  "metadata": {
    "colab": {
      "collapsed_sections": [],
      "provenance": [],
      "private_outputs": true
    },
    "kernelspec": {
      "display_name": "Python 3",
      "language": "python",
      "name": "python3"
    },
    "language_info": {
      "codemirror_mode": {
        "name": "ipython",
        "version": 3
      },
      "file_extension": ".py",
      "mimetype": "text/x-python",
      "name": "python",
      "nbconvert_exporter": "python",
      "pygments_lexer": "ipython3",
      "version": "3.8.8"
    }
  },
  "nbformat": 4,
  "nbformat_minor": 0
}